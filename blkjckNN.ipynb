{
 "cells": [
  {
   "cell_type": "code",
   "execution_count": null,
   "metadata": {},
   "outputs": [],
   "source": [
    "import torch\n",
    "import torch.nn as nn\n",
    "from torch.optim import Adam\n",
    "from torch.utils.data import DataLoader, Dataset\n",
    "import pandas as pd\n",
    "import matplotlib.pyplot as plt"
   ]
  },
  {
   "cell_type": "code",
   "execution_count": 127,
   "metadata": {},
   "outputs": [],
   "source": [
    "class BlkJckDataset(Dataset):\n",
    "    \"\"\"Black Jack Dataset\"\"\"\n",
    "\n",
    "    def __init__(self, file) -> None:\n",
    "        values = pd.read_csv(file, nrows=0)\n",
    "        values.drop(['Num', 'PlayerNo'], axis=1, inplace=True)\n",
    "        df = pd.read_csv(file, delimiter=',')\n",
    "        df.drop(df.columns[[0,1]], axis=1, inplace=True)\n",
    "        \n",
    "        self.values = values\n",
    "        self.dataFrame = df\n",
    "\n",
    "    def __len__(self):\n",
    "        return self.dataFrame.shape[0]\n",
    "\n",
    "    def __getitem__(self, index):\n",
    "        return self.dataFrame.iloc[index]"
   ]
  },
  {
   "cell_type": "code",
   "execution_count": 128,
   "metadata": {},
   "outputs": [
    {
     "data": {
      "text/plain": [
       "card1              7\n",
       "card2             10\n",
       "card3              0\n",
       "card4              0\n",
       "card5              0\n",
       "sumofcards        17\n",
       "dealcard1         10\n",
       "dealcard2          8\n",
       "dealcard3          0\n",
       "dealcard4          0\n",
       "dealcard5          0\n",
       "sumofdeal         18\n",
       "blkjck         nowin\n",
       "winloss         Loss\n",
       "plybustbeat     Beat\n",
       "dlbustbeat     Dlwin\n",
       "plwinamt           0\n",
       "dlwinamt          10\n",
       "ply2cardsum       17\n",
       "Name: 0, dtype: object"
      ]
     },
     "execution_count": 128,
     "metadata": {},
     "output_type": "execute_result"
    }
   ],
   "source": [
    "BlkJckDataset('Data/blkjckhands.csv').__getitem__(0)"
   ]
  },
  {
   "cell_type": "code",
   "execution_count": 118,
   "metadata": {},
   "outputs": [],
   "source": [
    "trainSet = BlkJckDataset('Data/blkjckhands.csv')\n",
    "trainLoader = DataLoader(trainSet, 32, shuffle=True)"
   ]
  },
  {
   "cell_type": "code",
   "execution_count": null,
   "metadata": {},
   "outputs": [],
   "source": [
    "class Gambler(nn.Module):\n",
    "\n",
    "    def __init__(self) -> None:\n",
    "        self.model = nn.Sequential(\n",
    "            nn.Conv2d()\n",
    "        )\n",
    "        pass\n",
    "\n",
    "    def forward():\n",
    "        pass"
   ]
  }
 ],
 "metadata": {
  "kernelspec": {
   "display_name": "Python 3.8.5 64-bit",
   "language": "python",
   "name": "python3"
  },
  "language_info": {
   "codemirror_mode": {
    "name": "ipython",
    "version": 3
   },
   "file_extension": ".py",
   "mimetype": "text/x-python",
   "name": "python",
   "nbconvert_exporter": "python",
   "pygments_lexer": "ipython3",
   "version": "3.8.5"
  },
  "orig_nbformat": 4,
  "vscode": {
   "interpreter": {
    "hash": "aee8b7b246df8f9039afb4144a1f6fd8d2ca17a180786b69acc140d282b71a49"
   }
  }
 },
 "nbformat": 4,
 "nbformat_minor": 2
}
